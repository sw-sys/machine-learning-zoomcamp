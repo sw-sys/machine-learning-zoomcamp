{
 "cells": [
  {
   "cell_type": "markdown",
   "id": "7583f410-bacb-4c50-ab15-9d7161f8a005",
   "metadata": {},
   "source": [
    "# Churn Prediction"
   ]
  },
  {
   "cell_type": "markdown",
   "id": "009dfe00-518c-44dc-9782-190645c72a9d",
   "metadata": {},
   "source": [
    "#### use binary clasification to represent negative churn 0 and positive churn 1"
   ]
  },
  {
   "cell_type": "code",
   "execution_count": 1,
   "id": "7f58aab0-c647-444d-8f15-0303ba6cf506",
   "metadata": {},
   "outputs": [],
   "source": [
    "data = 'https://raw.githubusercontent.com/alexeygrigorev/datasets/master/course_lead_scoring.csv'"
   ]
  },
  {
   "cell_type": "markdown",
   "id": "e45a0ffa-ed4b-402b-b972-0b45a58efe47",
   "metadata": {},
   "source": [
    "# Data Prep\n",
    "#### "
   ]
  },
  {
   "cell_type": "code",
   "execution_count": 2,
   "id": "4d36ef2e-cef4-49eb-a887-66a065332d27",
   "metadata": {},
   "outputs": [
    {
     "ename": "SyntaxError",
     "evalue": "invalid syntax (3582768912.py, line 1)",
     "output_type": "error",
     "traceback": [
      "\u001b[1;36m  Cell \u001b[1;32mIn[2], line 1\u001b[1;36m\u001b[0m\n\u001b[1;33m    wget https://raw.githubusercontent.com/alexeygrigorev/datasets/master/course_lead_scoring.csv\u001b[0m\n\u001b[1;37m         ^\u001b[0m\n\u001b[1;31mSyntaxError\u001b[0m\u001b[1;31m:\u001b[0m invalid syntax\n"
     ]
    }
   ],
   "source": [
    "wget https://raw.githubusercontent.com/alexeygrigorev/datasets/master/course_lead_scoring.csv"
   ]
  },
  {
   "cell_type": "markdown",
   "id": "b4b0b687-d5a1-4224-8634-a47af4033cca",
   "metadata": {},
   "source": [
    "#### Check if the missing values are presented in the features.\n",
    "### If there are missing values:\n",
    "##### 1. For caterogiral features, replace them with 'NA'\n",
    "##### 2. For numerical features, replace with with 0.0"
   ]
  },
  {
   "cell_type": "markdown",
   "id": "47f4d90c-37f5-4f63-996f-38cafa669328",
   "metadata": {},
   "source": [
    "# Question 1\n",
    "#### What is the most frequent observation (mode) for the column industry?"
   ]
  },
  {
   "cell_type": "code",
   "execution_count": null,
   "id": "3268b2f9-e30e-4dc4-98b2-9cb768158227",
   "metadata": {},
   "outputs": [],
   "source": []
  },
  {
   "cell_type": "markdown",
   "id": "ab5c4521-e81a-4289-b87b-2ab031643157",
   "metadata": {},
   "source": [
    "# Question 2\n",
    "#### Create the correlation matrix for the numerical features of your dataset. In a correlation matrix, you compute the correlation coefficient between every pair of features.\r\n",
    "#### \r\n",
    "What are the two features that have the biggest correlation?"
   ]
  },
  {
   "cell_type": "code",
   "execution_count": null,
   "id": "f1865fcb-1177-4b4f-8919-e027813b9b8c",
   "metadata": {},
   "outputs": [],
   "source": []
  },
  {
   "cell_type": "markdown",
   "id": "72c67844-cf33-499e-8508-80730468f03b",
   "metadata": {},
   "source": [
    "# Question 3\n",
    "#### "
   ]
  },
  {
   "cell_type": "code",
   "execution_count": null,
   "id": "37bb24de-b75c-41fe-850c-dbbdab1c3966",
   "metadata": {},
   "outputs": [],
   "source": []
  },
  {
   "cell_type": "markdown",
   "id": "900a0d4f-1f55-4268-9981-af226a3a6f67",
   "metadata": {},
   "source": [
    "# Question 4\n",
    "#### "
   ]
  },
  {
   "cell_type": "code",
   "execution_count": null,
   "id": "0204b5d7-c805-428d-953a-7e793c408575",
   "metadata": {},
   "outputs": [],
   "source": []
  },
  {
   "cell_type": "markdown",
   "id": "eda1ef7f-33f8-476f-8d53-2f809aa38f7f",
   "metadata": {},
   "source": [
    "# Question 5\n",
    "#### "
   ]
  },
  {
   "cell_type": "markdown",
   "id": "c13a3546-3cdc-4a4b-ab03-18441770f51a",
   "metadata": {},
   "source": [
    "# Question 5\n",
    "#### "
   ]
  },
  {
   "cell_type": "markdown",
   "id": "66405bd2-7e21-4ceb-9109-1e2a21b47242",
   "metadata": {},
   "source": [
    "# Question 6\n",
    "#### "
   ]
  },
  {
   "cell_type": "markdown",
   "id": "3d8f48c5-ac66-4525-a4ef-b3e158630453",
   "metadata": {},
   "source": [
    "# Question 6\n",
    "#### "
   ]
  }
 ],
 "metadata": {
  "kernelspec": {
   "display_name": "Python 3 (ipykernel)",
   "language": "python",
   "name": "python3"
  },
  "language_info": {
   "codemirror_mode": {
    "name": "ipython",
    "version": 3
   },
   "file_extension": ".py",
   "mimetype": "text/x-python",
   "name": "python",
   "nbconvert_exporter": "python",
   "pygments_lexer": "ipython3",
   "version": "3.11.2"
  }
 },
 "nbformat": 4,
 "nbformat_minor": 5
}
