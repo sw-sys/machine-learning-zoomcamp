{
 "cells": [
  {
   "cell_type": "markdown",
   "id": "7583f410-bacb-4c50-ab15-9d7161f8a005",
   "metadata": {},
   "source": [
    "# Churn Prediction"
   ]
  },
  {
   "cell_type": "markdown",
   "id": "009dfe00-518c-44dc-9782-190645c72a9d",
   "metadata": {},
   "source": [
    "#### use binary clasification to represent negative churn 0 and positive churn 1"
   ]
  },
  {
   "cell_type": "code",
   "execution_count": 15,
   "id": "7f58aab0-c647-444d-8f15-0303ba6cf506",
   "metadata": {},
   "outputs": [],
   "source": [
    "import pandas as pd\n",
    "import numpy as np"
   ]
  },
  {
   "cell_type": "markdown",
   "id": "e45a0ffa-ed4b-402b-b972-0b45a58efe47",
   "metadata": {},
   "source": [
    "# Data - Prep"
   ]
  },
  {
   "cell_type": "code",
   "execution_count": 16,
   "id": "d857cb0e-901c-4e63-a925-ce3b63e7e5f9",
   "metadata": {},
   "outputs": [
    {
     "data": {
      "text/html": [
       "<div>\n",
       "<style scoped>\n",
       "    .dataframe tbody tr th:only-of-type {\n",
       "        vertical-align: middle;\n",
       "    }\n",
       "\n",
       "    .dataframe tbody tr th {\n",
       "        vertical-align: top;\n",
       "    }\n",
       "\n",
       "    .dataframe thead th {\n",
       "        text-align: right;\n",
       "    }\n",
       "</style>\n",
       "<table border=\"1\" class=\"dataframe\">\n",
       "  <thead>\n",
       "    <tr style=\"text-align: right;\">\n",
       "      <th></th>\n",
       "      <th>0</th>\n",
       "      <th>1</th>\n",
       "      <th>2</th>\n",
       "      <th>3</th>\n",
       "      <th>4</th>\n",
       "    </tr>\n",
       "  </thead>\n",
       "  <tbody>\n",
       "    <tr>\n",
       "      <th>lead_source</th>\n",
       "      <td>paid_ads</td>\n",
       "      <td>social_media</td>\n",
       "      <td>events</td>\n",
       "      <td>paid_ads</td>\n",
       "      <td>referral</td>\n",
       "    </tr>\n",
       "    <tr>\n",
       "      <th>industry</th>\n",
       "      <td>NaN</td>\n",
       "      <td>retail</td>\n",
       "      <td>healthcare</td>\n",
       "      <td>retail</td>\n",
       "      <td>education</td>\n",
       "    </tr>\n",
       "    <tr>\n",
       "      <th>number_of_courses_viewed</th>\n",
       "      <td>1</td>\n",
       "      <td>1</td>\n",
       "      <td>5</td>\n",
       "      <td>2</td>\n",
       "      <td>3</td>\n",
       "    </tr>\n",
       "    <tr>\n",
       "      <th>annual_income</th>\n",
       "      <td>79450.0</td>\n",
       "      <td>46992.0</td>\n",
       "      <td>78796.0</td>\n",
       "      <td>83843.0</td>\n",
       "      <td>85012.0</td>\n",
       "    </tr>\n",
       "    <tr>\n",
       "      <th>employment_status</th>\n",
       "      <td>unemployed</td>\n",
       "      <td>employed</td>\n",
       "      <td>unemployed</td>\n",
       "      <td>NaN</td>\n",
       "      <td>self_employed</td>\n",
       "    </tr>\n",
       "    <tr>\n",
       "      <th>location</th>\n",
       "      <td>south_america</td>\n",
       "      <td>south_america</td>\n",
       "      <td>australia</td>\n",
       "      <td>australia</td>\n",
       "      <td>europe</td>\n",
       "    </tr>\n",
       "    <tr>\n",
       "      <th>interaction_count</th>\n",
       "      <td>4</td>\n",
       "      <td>1</td>\n",
       "      <td>3</td>\n",
       "      <td>1</td>\n",
       "      <td>3</td>\n",
       "    </tr>\n",
       "    <tr>\n",
       "      <th>lead_score</th>\n",
       "      <td>0.94</td>\n",
       "      <td>0.8</td>\n",
       "      <td>0.69</td>\n",
       "      <td>0.87</td>\n",
       "      <td>0.62</td>\n",
       "    </tr>\n",
       "    <tr>\n",
       "      <th>converted</th>\n",
       "      <td>1</td>\n",
       "      <td>0</td>\n",
       "      <td>1</td>\n",
       "      <td>0</td>\n",
       "      <td>1</td>\n",
       "    </tr>\n",
       "  </tbody>\n",
       "</table>\n",
       "</div>"
      ],
      "text/plain": [
       "                                      0              1           2          3  \\\n",
       "lead_source                    paid_ads   social_media      events   paid_ads   \n",
       "industry                            NaN         retail  healthcare     retail   \n",
       "number_of_courses_viewed              1              1           5          2   \n",
       "annual_income                   79450.0        46992.0     78796.0    83843.0   \n",
       "employment_status            unemployed       employed  unemployed        NaN   \n",
       "location                  south_america  south_america   australia  australia   \n",
       "interaction_count                     4              1           3          1   \n",
       "lead_score                         0.94            0.8        0.69       0.87   \n",
       "converted                             1              0           1          0   \n",
       "\n",
       "                                      4  \n",
       "lead_source                    referral  \n",
       "industry                      education  \n",
       "number_of_courses_viewed              3  \n",
       "annual_income                   85012.0  \n",
       "employment_status         self_employed  \n",
       "location                         europe  \n",
       "interaction_count                     3  \n",
       "lead_score                         0.62  \n",
       "converted                             1  "
      ]
     },
     "execution_count": 16,
     "metadata": {},
     "output_type": "execute_result"
    }
   ],
   "source": [
    "import urllib.request\n",
    "\n",
    "url = \"https://raw.githubusercontent.com/alexeygrigorev/datasets/master/course_lead_scoring.csv\"\n",
    "filename = \"course_lead_scoring.csv\"\n",
    "urllib.request.urlretrieve(url, filename)\n",
    "\n",
    "df = pd.read_csv(filename)\n",
    "#df.head()\n",
    "df.head().T"
   ]
  },
  {
   "cell_type": "markdown",
   "id": "b4b0b687-d5a1-4224-8634-a47af4033cca",
   "metadata": {},
   "source": [
    "#### Check if the missing values are presented in the features.\n",
    "### If there are missing values:\n",
    "##### 1. For caterogiral features, replace them with 'NA'\n",
    "##### 2. For numerical features, replace with with 0.0"
   ]
  },
  {
   "cell_type": "code",
   "execution_count": 17,
   "id": "2d3d0970-ae22-4592-9c80-aebb65bbabb2",
   "metadata": {},
   "outputs": [
    {
     "name": "stdout",
     "output_type": "stream",
     "text": [
      "                     Column    Dtype  Null_Count\n",
      "0               lead_source   object         128\n",
      "1                  industry   object         134\n",
      "2  number_of_courses_viewed    int64           0\n",
      "3             annual_income  float64         181\n",
      "4         employment_status   object         100\n",
      "5                  location   object          63\n",
      "6         interaction_count    int64           0\n",
      "7                lead_score  float64           0\n",
      "8                 converted    int64           0\n"
     ]
    }
   ],
   "source": [
    "#### Check if the missing values are presented in the features:\n",
    "\n",
    "# Create a summary DataFrame with column name, dtype, and null counts\n",
    "summary_df = pd.DataFrame({\n",
    "    \"Column\": df.columns,\n",
    "    \"Dtype\": df.dtypes.values,\n",
    "    \"Null_Count\": df.isnull().sum().values\n",
    "})\n",
    "\n",
    "print(summary_df)"
   ]
  },
  {
   "cell_type": "code",
   "execution_count": 18,
   "id": "52db51e6-caef-415c-b363-177b2e210008",
   "metadata": {},
   "outputs": [
    {
     "name": "stdout",
     "output_type": "stream",
     "text": [
      "                     Column    Dtype  Null_Count\n",
      "0               lead_source   object           0\n",
      "1                  industry   object           0\n",
      "2  number_of_courses_viewed    int64           0\n",
      "3             annual_income  float64           0\n",
      "4         employment_status   object           0\n",
      "5                  location   object           0\n",
      "6         interaction_count    int64           0\n",
      "7                lead_score  float64           0\n",
      "8                 converted    int64           0\n"
     ]
    }
   ],
   "source": [
    "#### If there are missing values:\n",
    "#### 1. For caterogiral features, replace them with 'NA'\n",
    "\n",
    "df[['lead_source', 'industry', 'employment_status', 'location']] = df[['lead_source', 'industry', 'employment_status', 'location']].fillna('NA')\n",
    "\n",
    "#### 2. For numerical features, replace with with 0.0\n",
    "\n",
    "df['annual_income'] = df['annual_income'].fillna(0)\n",
    "\n",
    "check_summary_df = pd.DataFrame({\n",
    "    \"Column\": df.columns,\n",
    "    \"Dtype\": df.dtypes.values,\n",
    "    \"Null_Count\": df.isnull().sum().values\n",
    "})\n",
    "\n",
    "print(check_summary_df)"
   ]
  },
  {
   "cell_type": "code",
   "execution_count": 19,
   "id": "424708c5-e602-48af-852b-1e369c914fd7",
   "metadata": {},
   "outputs": [],
   "source": [
    "# if churn col isn't in binary, make it so\n",
    "#df.churn = (df.churn == 'yes').astype(int).head()"
   ]
  },
  {
   "cell_type": "markdown",
   "id": "47f4d90c-37f5-4f63-996f-38cafa669328",
   "metadata": {},
   "source": [
    "# Question 1\n",
    "#### What is the most frequent observation (mode) for the column industry?"
   ]
  },
  {
   "cell_type": "code",
   "execution_count": 20,
   "id": "3268b2f9-e30e-4dc4-98b2-9cb768158227",
   "metadata": {},
   "outputs": [
    {
     "data": {
      "text/plain": [
       "0    retail\n",
       "Name: industry, dtype: object"
      ]
     },
     "execution_count": 20,
     "metadata": {},
     "output_type": "execute_result"
    }
   ],
   "source": [
    "df['industry'].mode()\n",
    "#df['industry'].value_counts().get('retail', 0)"
   ]
  },
  {
   "cell_type": "markdown",
   "id": "ab5c4521-e81a-4289-b87b-2ab031643157",
   "metadata": {},
   "source": [
    "# Question 2\n",
    "#### Create the correlation matrix for the numerical features of your dataset. In a correlation matrix, you compute the correlation coefficient between every pair of features.\r\n",
    "#### \r\n",
    "What are the two features that have the biggest correlation?"
   ]
  },
  {
   "cell_type": "code",
   "execution_count": null,
   "id": "f1865fcb-1177-4b4f-8919-e027813b9b8c",
   "metadata": {},
   "outputs": [],
   "source": []
  },
  {
   "cell_type": "markdown",
   "id": "5b4536d2-1cbc-43f6-8b17-85dbdb02b02b",
   "metadata": {},
   "source": [
    "# Split the data\n",
    "Split your data in train/val/test sets with 60%/20%/20% distribution.\n",
    "Use Scikit-Learn for that (the train_test_split function) and set the seed to 42.\n",
    "Make sure that the target value y is not in your dataframe."
   ]
  },
  {
   "cell_type": "code",
   "execution_count": 21,
   "id": "b48e772a-5bf4-4010-8772-06b2d22cfac0",
   "metadata": {},
   "outputs": [],
   "source": [
    "from sklearn.model_selection import train_test_split"
   ]
  },
  {
   "cell_type": "code",
   "execution_count": 28,
   "id": "92f34cec-1a88-4ff9-9f85-f48d18c8149a",
   "metadata": {},
   "outputs": [
    {
     "data": {
      "text/plain": [
       "293"
      ]
     },
     "execution_count": 28,
     "metadata": {},
     "output_type": "execute_result"
    }
   ],
   "source": [
    "df_full_train, df_test = train_test_split(df, train_size=0.8, test_size=0.2, random_state=42)\n",
    "\n",
    "len(df_full_train) #1169\n",
    "len(df_test) #293"
   ]
  },
  {
   "cell_type": "code",
   "execution_count": 39,
   "id": "079f9152-e193-40a0-82f5-1b80a0632d49",
   "metadata": {},
   "outputs": [
    {
     "data": {
      "text/plain": [
       "876"
      ]
     },
     "execution_count": 39,
     "metadata": {},
     "output_type": "execute_result"
    }
   ],
   "source": [
    "df_train, df_val = train_test_split(df_full_train, train_size=0.75, test_size=0.25, random_state=42)\n",
    "len(df_train) #876\n",
    "len(df_val) #293\n",
    "len(df_test) # 293"
   ]
  },
  {
   "cell_type": "code",
   "execution_count": 40,
   "id": "28eb972b-51f8-4b40-9566-84eef5b24a3f",
   "metadata": {},
   "outputs": [
    {
     "data": {
      "text/html": [
       "<div>\n",
       "<style scoped>\n",
       "    .dataframe tbody tr th:only-of-type {\n",
       "        vertical-align: middle;\n",
       "    }\n",
       "\n",
       "    .dataframe tbody tr th {\n",
       "        vertical-align: top;\n",
       "    }\n",
       "\n",
       "    .dataframe thead th {\n",
       "        text-align: right;\n",
       "    }\n",
       "</style>\n",
       "<table border=\"1\" class=\"dataframe\">\n",
       "  <thead>\n",
       "    <tr style=\"text-align: right;\">\n",
       "      <th></th>\n",
       "      <th>lead_source</th>\n",
       "      <th>industry</th>\n",
       "      <th>number_of_courses_viewed</th>\n",
       "      <th>annual_income</th>\n",
       "      <th>employment_status</th>\n",
       "      <th>location</th>\n",
       "      <th>interaction_count</th>\n",
       "      <th>lead_score</th>\n",
       "      <th>converted</th>\n",
       "    </tr>\n",
       "  </thead>\n",
       "  <tbody>\n",
       "    <tr>\n",
       "      <th>0</th>\n",
       "      <td>paid_ads</td>\n",
       "      <td>retail</td>\n",
       "      <td>0</td>\n",
       "      <td>58472.0</td>\n",
       "      <td>student</td>\n",
       "      <td>middle_east</td>\n",
       "      <td>5</td>\n",
       "      <td>0.03</td>\n",
       "      <td>0</td>\n",
       "    </tr>\n",
       "    <tr>\n",
       "      <th>1</th>\n",
       "      <td>organic_search</td>\n",
       "      <td>manufacturing</td>\n",
       "      <td>3</td>\n",
       "      <td>71738.0</td>\n",
       "      <td>student</td>\n",
       "      <td>middle_east</td>\n",
       "      <td>6</td>\n",
       "      <td>0.77</td>\n",
       "      <td>1</td>\n",
       "    </tr>\n",
       "    <tr>\n",
       "      <th>2</th>\n",
       "      <td>paid_ads</td>\n",
       "      <td>technology</td>\n",
       "      <td>3</td>\n",
       "      <td>81973.0</td>\n",
       "      <td>employed</td>\n",
       "      <td>north_america</td>\n",
       "      <td>2</td>\n",
       "      <td>0.59</td>\n",
       "      <td>1</td>\n",
       "    </tr>\n",
       "    <tr>\n",
       "      <th>3</th>\n",
       "      <td>NA</td>\n",
       "      <td>technology</td>\n",
       "      <td>1</td>\n",
       "      <td>74956.0</td>\n",
       "      <td>employed</td>\n",
       "      <td>europe</td>\n",
       "      <td>3</td>\n",
       "      <td>0.34</td>\n",
       "      <td>1</td>\n",
       "    </tr>\n",
       "    <tr>\n",
       "      <th>4</th>\n",
       "      <td>organic_search</td>\n",
       "      <td>retail</td>\n",
       "      <td>3</td>\n",
       "      <td>59335.0</td>\n",
       "      <td>student</td>\n",
       "      <td>australia</td>\n",
       "      <td>1</td>\n",
       "      <td>0.98</td>\n",
       "      <td>1</td>\n",
       "    </tr>\n",
       "  </tbody>\n",
       "</table>\n",
       "</div>"
      ],
      "text/plain": [
       "      lead_source       industry  number_of_courses_viewed  annual_income  \\\n",
       "0        paid_ads         retail                         0        58472.0   \n",
       "1  organic_search  manufacturing                         3        71738.0   \n",
       "2        paid_ads     technology                         3        81973.0   \n",
       "3              NA     technology                         1        74956.0   \n",
       "4  organic_search         retail                         3        59335.0   \n",
       "\n",
       "  employment_status       location  interaction_count  lead_score  converted  \n",
       "0           student    middle_east                  5        0.03          0  \n",
       "1           student    middle_east                  6        0.77          1  \n",
       "2          employed  north_america                  2        0.59          1  \n",
       "3          employed         europe                  3        0.34          1  \n",
       "4           student      australia                  1        0.98          1  "
      ]
     },
     "execution_count": 40,
     "metadata": {},
     "output_type": "execute_result"
    }
   ],
   "source": [
    "df_train = df_train.reset_index(drop=True)\n",
    "df_test = df_test.reset_index(drop=True)\n",
    "df_val = df_val.reset_index(drop=True)\n",
    "\n",
    "df_train.head()"
   ]
  },
  {
   "cell_type": "code",
   "execution_count": 41,
   "id": "a551c109-1a73-467e-bb44-6ade489937bd",
   "metadata": {},
   "outputs": [],
   "source": [
    "y_train = df_train.converted.values\n",
    "y_test = df_test.converted.values\n",
    "y_val = df_val.converted.values"
   ]
  },
  {
   "cell_type": "code",
   "execution_count": 46,
   "id": "11b6da03-10f8-4038-9491-4ba48d507f3c",
   "metadata": {},
   "outputs": [
    {
     "data": {
      "text/html": [
       "<div>\n",
       "<style scoped>\n",
       "    .dataframe tbody tr th:only-of-type {\n",
       "        vertical-align: middle;\n",
       "    }\n",
       "\n",
       "    .dataframe tbody tr th {\n",
       "        vertical-align: top;\n",
       "    }\n",
       "\n",
       "    .dataframe thead th {\n",
       "        text-align: right;\n",
       "    }\n",
       "</style>\n",
       "<table border=\"1\" class=\"dataframe\">\n",
       "  <thead>\n",
       "    <tr style=\"text-align: right;\">\n",
       "      <th></th>\n",
       "      <th>lead_source</th>\n",
       "      <th>industry</th>\n",
       "      <th>number_of_courses_viewed</th>\n",
       "      <th>annual_income</th>\n",
       "      <th>employment_status</th>\n",
       "      <th>location</th>\n",
       "      <th>interaction_count</th>\n",
       "      <th>lead_score</th>\n",
       "    </tr>\n",
       "  </thead>\n",
       "  <tbody>\n",
       "    <tr>\n",
       "      <th>0</th>\n",
       "      <td>paid_ads</td>\n",
       "      <td>retail</td>\n",
       "      <td>0</td>\n",
       "      <td>58472.0</td>\n",
       "      <td>student</td>\n",
       "      <td>middle_east</td>\n",
       "      <td>5</td>\n",
       "      <td>0.03</td>\n",
       "    </tr>\n",
       "    <tr>\n",
       "      <th>1</th>\n",
       "      <td>organic_search</td>\n",
       "      <td>manufacturing</td>\n",
       "      <td>3</td>\n",
       "      <td>71738.0</td>\n",
       "      <td>student</td>\n",
       "      <td>middle_east</td>\n",
       "      <td>6</td>\n",
       "      <td>0.77</td>\n",
       "    </tr>\n",
       "    <tr>\n",
       "      <th>2</th>\n",
       "      <td>paid_ads</td>\n",
       "      <td>technology</td>\n",
       "      <td>3</td>\n",
       "      <td>81973.0</td>\n",
       "      <td>employed</td>\n",
       "      <td>north_america</td>\n",
       "      <td>2</td>\n",
       "      <td>0.59</td>\n",
       "    </tr>\n",
       "    <tr>\n",
       "      <th>3</th>\n",
       "      <td>NA</td>\n",
       "      <td>technology</td>\n",
       "      <td>1</td>\n",
       "      <td>74956.0</td>\n",
       "      <td>employed</td>\n",
       "      <td>europe</td>\n",
       "      <td>3</td>\n",
       "      <td>0.34</td>\n",
       "    </tr>\n",
       "    <tr>\n",
       "      <th>4</th>\n",
       "      <td>organic_search</td>\n",
       "      <td>retail</td>\n",
       "      <td>3</td>\n",
       "      <td>59335.0</td>\n",
       "      <td>student</td>\n",
       "      <td>australia</td>\n",
       "      <td>1</td>\n",
       "      <td>0.98</td>\n",
       "    </tr>\n",
       "  </tbody>\n",
       "</table>\n",
       "</div>"
      ],
      "text/plain": [
       "      lead_source       industry  number_of_courses_viewed  annual_income  \\\n",
       "0        paid_ads         retail                         0        58472.0   \n",
       "1  organic_search  manufacturing                         3        71738.0   \n",
       "2        paid_ads     technology                         3        81973.0   \n",
       "3              NA     technology                         1        74956.0   \n",
       "4  organic_search         retail                         3        59335.0   \n",
       "\n",
       "  employment_status       location  interaction_count  lead_score  \n",
       "0           student    middle_east                  5        0.03  \n",
       "1           student    middle_east                  6        0.77  \n",
       "2          employed  north_america                  2        0.59  \n",
       "3          employed         europe                  3        0.34  \n",
       "4           student      australia                  1        0.98  "
      ]
     },
     "execution_count": 46,
     "metadata": {},
     "output_type": "execute_result"
    }
   ],
   "source": [
    "# del df_train['converted']\n",
    "# del df_test['converted']\n",
    "# del df_val['converted']\n",
    "df_train.head()"
   ]
  },
  {
   "cell_type": "markdown",
   "id": "4bce0e7e-b66c-4e37-8cbb-8f6a0a5bc371",
   "metadata": {},
   "source": [
    "# Question 3\n",
    "Calculate the mutual information score between y and other categorical variables in the dataset. Use the training set only.\r\n",
    "Round the scores to 2 decimals using round(score, 2)\n",
    "Which of these variables has the biggest mutual information score?."
   ]
  },
  {
   "cell_type": "code",
   "execution_count": null,
   "id": "37bb24de-b75c-41fe-850c-dbbdab1c3966",
   "metadata": {},
   "outputs": [],
   "source": []
  },
  {
   "cell_type": "markdown",
   "id": "900a0d4f-1f55-4268-9981-af226a3a6f67",
   "metadata": {},
   "source": [
    "# Question 4\n",
    "Now let's train a logistic regression.\r\n",
    "Remember that we have several categorical variables in the dataset. Include them using one-hot encoding.\r\n",
    "Fit the model on the training dataset.\r\n",
    "To make sure the results are reproducible across different versions of Scikit-Learn, fit the model with these parameters:\r\n",
    "model = LogisticRegression(solver='liblinear', C=1.0, max_iter=1000, random_state=42)\r\n",
    "Calculate the accuracy on the validation dataset and round it to 2 decimal digits.\r\n",
    "What accuracy did you get?"
   ]
  },
  {
   "cell_type": "code",
   "execution_count": null,
   "id": "0204b5d7-c805-428d-953a-7e793c408575",
   "metadata": {},
   "outputs": [],
   "source": []
  },
  {
   "cell_type": "markdown",
   "id": "eda1ef7f-33f8-476f-8d53-2f809aa38f7f",
   "metadata": {},
   "source": [
    "# Question 5\n",
    "Let's find the least useful feature using the feature elimination technique.\r\n",
    "Train a model using the same features and parameters as in Q4 (without rounding).\r\n",
    "Now exclude each feature from this set and train a model without it. Record the accuracy for each model.\r\n",
    "For each feature, calculate the difference between the original accuracy and the accuracy without the feature.\r\n",
    "Which of following feature has the smallest difference?"
   ]
  },
  {
   "cell_type": "code",
   "execution_count": null,
   "id": "0220370f-9d3c-440a-b12a-6a48c43649f4",
   "metadata": {},
   "outputs": [],
   "source": []
  },
  {
   "cell_type": "markdown",
   "id": "66405bd2-7e21-4ceb-9109-1e2a21b47242",
   "metadata": {},
   "source": [
    "# Question 6\n",
    "Now let's train a regularized logistic regression.\r\n",
    "Let's try the following values of the parameter C: [0.01, 0.1, 1, 10, 100].\r\n",
    "Train models using all the features as in Q4.\r\n",
    "Calculate the accuracy on the validation dataset and round it to 3 decimal digits.\r\n",
    "Which of these C leads to the best accuracy on the validation set? "
   ]
  },
  {
   "cell_type": "code",
   "execution_count": null,
   "id": "55de8131-717c-4354-80e1-739c832d2256",
   "metadata": {},
   "outputs": [],
   "source": []
  }
 ],
 "metadata": {
  "kernelspec": {
   "display_name": "Python 3 (ipykernel)",
   "language": "python",
   "name": "python3"
  },
  "language_info": {
   "codemirror_mode": {
    "name": "ipython",
    "version": 3
   },
   "file_extension": ".py",
   "mimetype": "text/x-python",
   "name": "python",
   "nbconvert_exporter": "python",
   "pygments_lexer": "ipython3",
   "version": "3.11.2"
  }
 },
 "nbformat": 4,
 "nbformat_minor": 5
}
