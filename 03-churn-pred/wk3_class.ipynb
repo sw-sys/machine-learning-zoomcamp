{
 "cells": [
  {
   "cell_type": "markdown",
   "id": "7583f410-bacb-4c50-ab15-9d7161f8a005",
   "metadata": {},
   "source": [
    "# Churn Prediction"
   ]
  },
  {
   "cell_type": "markdown",
   "id": "009dfe00-518c-44dc-9782-190645c72a9d",
   "metadata": {},
   "source": [
    "#### use binary clasification to represent negative churn 0 and positive churn 1"
   ]
  },
  {
   "cell_type": "code",
   "execution_count": 4,
   "id": "7f58aab0-c647-444d-8f15-0303ba6cf506",
   "metadata": {},
   "outputs": [],
   "source": [
    "import pandas as pd\n",
    "import numpy as np"
   ]
  },
  {
   "cell_type": "markdown",
   "id": "e45a0ffa-ed4b-402b-b972-0b45a58efe47",
   "metadata": {},
   "source": [
    "# Data - Prep"
   ]
  },
  {
   "cell_type": "code",
   "execution_count": 22,
   "id": "d857cb0e-901c-4e63-a925-ce3b63e7e5f9",
   "metadata": {},
   "outputs": [
    {
     "data": {
      "text/html": [
       "<div>\n",
       "<style scoped>\n",
       "    .dataframe tbody tr th:only-of-type {\n",
       "        vertical-align: middle;\n",
       "    }\n",
       "\n",
       "    .dataframe tbody tr th {\n",
       "        vertical-align: top;\n",
       "    }\n",
       "\n",
       "    .dataframe thead th {\n",
       "        text-align: right;\n",
       "    }\n",
       "</style>\n",
       "<table border=\"1\" class=\"dataframe\">\n",
       "  <thead>\n",
       "    <tr style=\"text-align: right;\">\n",
       "      <th></th>\n",
       "      <th>lead_source</th>\n",
       "      <th>industry</th>\n",
       "      <th>number_of_courses_viewed</th>\n",
       "      <th>annual_income</th>\n",
       "      <th>employment_status</th>\n",
       "      <th>location</th>\n",
       "      <th>interaction_count</th>\n",
       "      <th>lead_score</th>\n",
       "      <th>converted</th>\n",
       "    </tr>\n",
       "  </thead>\n",
       "  <tbody>\n",
       "    <tr>\n",
       "      <th>0</th>\n",
       "      <td>paid_ads</td>\n",
       "      <td>NaN</td>\n",
       "      <td>1</td>\n",
       "      <td>79450.0</td>\n",
       "      <td>unemployed</td>\n",
       "      <td>south_america</td>\n",
       "      <td>4</td>\n",
       "      <td>0.94</td>\n",
       "      <td>1</td>\n",
       "    </tr>\n",
       "    <tr>\n",
       "      <th>1</th>\n",
       "      <td>social_media</td>\n",
       "      <td>retail</td>\n",
       "      <td>1</td>\n",
       "      <td>46992.0</td>\n",
       "      <td>employed</td>\n",
       "      <td>south_america</td>\n",
       "      <td>1</td>\n",
       "      <td>0.80</td>\n",
       "      <td>0</td>\n",
       "    </tr>\n",
       "    <tr>\n",
       "      <th>2</th>\n",
       "      <td>events</td>\n",
       "      <td>healthcare</td>\n",
       "      <td>5</td>\n",
       "      <td>78796.0</td>\n",
       "      <td>unemployed</td>\n",
       "      <td>australia</td>\n",
       "      <td>3</td>\n",
       "      <td>0.69</td>\n",
       "      <td>1</td>\n",
       "    </tr>\n",
       "    <tr>\n",
       "      <th>3</th>\n",
       "      <td>paid_ads</td>\n",
       "      <td>retail</td>\n",
       "      <td>2</td>\n",
       "      <td>83843.0</td>\n",
       "      <td>NaN</td>\n",
       "      <td>australia</td>\n",
       "      <td>1</td>\n",
       "      <td>0.87</td>\n",
       "      <td>0</td>\n",
       "    </tr>\n",
       "    <tr>\n",
       "      <th>4</th>\n",
       "      <td>referral</td>\n",
       "      <td>education</td>\n",
       "      <td>3</td>\n",
       "      <td>85012.0</td>\n",
       "      <td>self_employed</td>\n",
       "      <td>europe</td>\n",
       "      <td>3</td>\n",
       "      <td>0.62</td>\n",
       "      <td>1</td>\n",
       "    </tr>\n",
       "  </tbody>\n",
       "</table>\n",
       "</div>"
      ],
      "text/plain": [
       "    lead_source    industry  number_of_courses_viewed  annual_income  \\\n",
       "0      paid_ads         NaN                         1        79450.0   \n",
       "1  social_media      retail                         1        46992.0   \n",
       "2        events  healthcare                         5        78796.0   \n",
       "3      paid_ads      retail                         2        83843.0   \n",
       "4      referral   education                         3        85012.0   \n",
       "\n",
       "  employment_status       location  interaction_count  lead_score  converted  \n",
       "0        unemployed  south_america                  4        0.94          1  \n",
       "1          employed  south_america                  1        0.80          0  \n",
       "2        unemployed      australia                  3        0.69          1  \n",
       "3               NaN      australia                  1        0.87          0  \n",
       "4     self_employed         europe                  3        0.62          1  "
      ]
     },
     "execution_count": 22,
     "metadata": {},
     "output_type": "execute_result"
    }
   ],
   "source": [
    "import urllib.request\n",
    "\n",
    "url = \"https://raw.githubusercontent.com/alexeygrigorev/datasets/master/course_lead_scoring.csv\"\n",
    "filename = \"course_lead_scoring.csv\"\n",
    "urllib.request.urlretrieve(url, filename)\n",
    "\n",
    "df = pd.read_csv(filename)\n",
    "df.head()"
   ]
  },
  {
   "cell_type": "markdown",
   "id": "b4b0b687-d5a1-4224-8634-a47af4033cca",
   "metadata": {},
   "source": [
    "#### Check if the missing values are presented in the features.\n",
    "### If there are missing values:\n",
    "##### 1. For caterogiral features, replace them with 'NA'\n",
    "##### 2. For numerical features, replace with with 0.0"
   ]
  },
  {
   "cell_type": "code",
   "execution_count": 21,
   "id": "2d3d0970-ae22-4592-9c80-aebb65bbabb2",
   "metadata": {},
   "outputs": [
    {
     "name": "stdout",
     "output_type": "stream",
     "text": [
      "                     Column    Dtype  Null_Count\n",
      "0               lead_source   object         128\n",
      "1                  industry   object         134\n",
      "2  number_of_courses_viewed    int64           0\n",
      "3             annual_income  float64         181\n",
      "4         employment_status   object         100\n",
      "5                  location   object          63\n",
      "6         interaction_count    int64           0\n",
      "7                lead_score  float64           0\n",
      "8                 converted    int64           0\n"
     ]
    }
   ],
   "source": [
    "#### Check if the missing values are presented in the features:\n",
    "\n",
    "# Create a summary DataFrame with column name, dtype, and null counts\n",
    "summary_df = pd.DataFrame({\n",
    "    \"Column\": df.columns,\n",
    "    \"Dtype\": df.dtypes.values,\n",
    "    \"Null_Count\": df.isnull().sum().values\n",
    "})\n",
    "\n",
    "print(summary_df)"
   ]
  },
  {
   "cell_type": "code",
   "execution_count": 21,
   "id": "52db51e6-caef-415c-b363-177b2e210008",
   "metadata": {},
   "outputs": [
    {
     "name": "stdout",
     "output_type": "stream",
     "text": [
      "                     Column    Dtype  Null_Count\n",
      "0               lead_source   object         128\n",
      "1                  industry   object         134\n",
      "2  number_of_courses_viewed    int64           0\n",
      "3             annual_income  float64         181\n",
      "4         employment_status   object         100\n",
      "5                  location   object          63\n",
      "6         interaction_count    int64           0\n",
      "7                lead_score  float64           0\n",
      "8                 converted    int64           0\n"
     ]
    }
   ],
   "source": [
    "#### If there are missing values:\n",
    "#### 1. For caterogiral features, replace them with 'NA'\n",
    "\n",
    "df = ['lead_source', 'industry', 'employment_status', 'location'] == 0:\n",
    "    for value in \n",
    "        replace with 'NA'\n",
    "\n",
    "#### 2. For numerical features, replace with with 0.0\n",
    "\n"
   ]
  },
  {
   "cell_type": "markdown",
   "id": "47f4d90c-37f5-4f63-996f-38cafa669328",
   "metadata": {},
   "source": [
    "# Question 1\n",
    "#### What is the most frequent observation (mode) for the column industry?"
   ]
  },
  {
   "cell_type": "code",
   "execution_count": null,
   "id": "3268b2f9-e30e-4dc4-98b2-9cb768158227",
   "metadata": {},
   "outputs": [],
   "source": []
  },
  {
   "cell_type": "markdown",
   "id": "ab5c4521-e81a-4289-b87b-2ab031643157",
   "metadata": {},
   "source": [
    "# Question 2\n",
    "#### Create the correlation matrix for the numerical features of your dataset. In a correlation matrix, you compute the correlation coefficient between every pair of features.\r\n",
    "#### \r\n",
    "What are the two features that have the biggest correlation?"
   ]
  },
  {
   "cell_type": "code",
   "execution_count": null,
   "id": "f1865fcb-1177-4b4f-8919-e027813b9b8c",
   "metadata": {},
   "outputs": [],
   "source": []
  },
  {
   "cell_type": "markdown",
   "id": "72c67844-cf33-499e-8508-80730468f03b",
   "metadata": {},
   "source": [
    "# Question 3\n",
    "#### "
   ]
  },
  {
   "cell_type": "code",
   "execution_count": null,
   "id": "37bb24de-b75c-41fe-850c-dbbdab1c3966",
   "metadata": {},
   "outputs": [],
   "source": []
  },
  {
   "cell_type": "markdown",
   "id": "900a0d4f-1f55-4268-9981-af226a3a6f67",
   "metadata": {},
   "source": [
    "# Question 4\n",
    "#### "
   ]
  },
  {
   "cell_type": "code",
   "execution_count": null,
   "id": "0204b5d7-c805-428d-953a-7e793c408575",
   "metadata": {},
   "outputs": [],
   "source": []
  },
  {
   "cell_type": "markdown",
   "id": "eda1ef7f-33f8-476f-8d53-2f809aa38f7f",
   "metadata": {},
   "source": [
    "# Question 5\n",
    "#### "
   ]
  },
  {
   "cell_type": "code",
   "execution_count": null,
   "id": "0220370f-9d3c-440a-b12a-6a48c43649f4",
   "metadata": {},
   "outputs": [],
   "source": []
  },
  {
   "cell_type": "markdown",
   "id": "66405bd2-7e21-4ceb-9109-1e2a21b47242",
   "metadata": {},
   "source": [
    "# Question 6\n",
    "#### "
   ]
  },
  {
   "cell_type": "code",
   "execution_count": null,
   "id": "55de8131-717c-4354-80e1-739c832d2256",
   "metadata": {},
   "outputs": [],
   "source": []
  }
 ],
 "metadata": {
  "kernelspec": {
   "display_name": "Python 3 (ipykernel)",
   "language": "python",
   "name": "python3"
  },
  "language_info": {
   "codemirror_mode": {
    "name": "ipython",
    "version": 3
   },
   "file_extension": ".py",
   "mimetype": "text/x-python",
   "name": "python",
   "nbconvert_exporter": "python",
   "pygments_lexer": "ipython3",
   "version": "3.11.2"
  }
 },
 "nbformat": 4,
 "nbformat_minor": 5
}
