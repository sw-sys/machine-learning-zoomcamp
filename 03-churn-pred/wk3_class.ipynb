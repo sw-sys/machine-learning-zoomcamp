{
 "cells": [
  {
   "cell_type": "markdown",
   "id": "d5748110-aac9-4dbc-bbe1-93f0f4bee7a8",
   "metadata": {},
   "source": [
    "# Churn Prediction\n",
    "Class notes"
   ]
  },
  {
   "cell_type": "code",
   "execution_count": null,
   "id": "fe4bb671-3ef4-4c16-9071-e3e60d192903",
   "metadata": {},
   "outputs": [],
   "source": []
  }
 ],
 "metadata": {
  "kernelspec": {
   "display_name": "Python 3 (ipykernel)",
   "language": "python",
   "name": "python3"
  },
  "language_info": {
   "codemirror_mode": {
    "name": "ipython",
    "version": 3
   },
   "file_extension": ".py",
   "mimetype": "text/x-python",
   "name": "python",
   "nbconvert_exporter": "python",
   "pygments_lexer": "ipython3",
   "version": "3.11.2"
  }
 },
 "nbformat": 4,
 "nbformat_minor": 5
}
